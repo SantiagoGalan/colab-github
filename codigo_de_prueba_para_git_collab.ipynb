{
  "cells": [
    {
      "cell_type": "markdown",
      "metadata": {
        "id": "view-in-github",
        "colab_type": "text"
      },
      "source": [
        "<a href=\"https://colab.research.google.com/github/SantiagoGalan/colab-github/blob/clase_docente/codigo_de_prueba_para_git_collab.ipynb\" target=\"_parent\"><img src=\"https://colab.research.google.com/assets/colab-badge.svg\" alt=\"Open In Colab\"/></a>"
      ]
    },
    {
      "cell_type": "code",
      "source": [
        "class Docente():\n",
        "  def __init__(self,nombre,edad,materia):\n",
        "    self.nombre = nombre\n",
        "    self.edad = edad\n",
        "    self.materia = materia\n",
        "  def dictar(self,texto,alumno):\n",
        "    alumno.recivir_texto(texto)"
      ],
      "metadata": {
        "id": "0jrZldm9NSDK"
      },
      "execution_count": 25,
      "outputs": []
    },
    {
      "cell_type": "code",
      "execution_count": 22,
      "metadata": {
        "id": "DlyC7GqLBsKq"
      },
      "outputs": [],
      "source": [
        "class Cuaderno():\n",
        "  def __init__(self):\n",
        "    self.hojas_en_blanco = 100\n",
        "    self.hojas_usadas = 0\n",
        "  def usar_hoja(self):\n",
        "    self.hojas_usadas += 1\n",
        "    self.hojas_en_blanco -= 1"
      ]
    },
    {
      "cell_type": "code",
      "source": [
        "class Alumno():\n",
        "  def __init__(self,nombre,edad):\n",
        "    self.nombre = nombre\n",
        "    self.edad = edad\n",
        "  def usar_cuaderno(self, cuaderno):\n",
        "    cuaderno.usar_hoja()\n",
        "  def recivir_texto(self,texto):\n",
        "    print(f\"texto recivido\")"
      ],
      "metadata": {
        "id": "tWe1RMj9NcmB"
      },
      "execution_count": 26,
      "outputs": []
    },
    {
      "cell_type": "code",
      "execution_count": 28,
      "metadata": {
        "id": "YT_bgaj5WiBr",
        "outputId": "7f71be65-bb14-4842-cefd-bbe1125e9478",
        "colab": {
          "base_uri": "https://localhost:8080/"
        }
      },
      "outputs": [
        {
          "output_type": "stream",
          "name": "stdout",
          "text": [
            "99\n",
            "1\n"
          ]
        }
      ],
      "source": [
        "cuaderno = Cuaderno()\n",
        "alumno = Alumno(\"santi\",10)\n",
        "\n",
        "alumno.usar_cuaderno(cuaderno)\n",
        "print(cuaderno.hojas_en_blanco)\n",
        "print(cuaderno.hojas_usadas)\n",
        "\n",
        "docente = Docente(\"Ricadro\", 56,\"Redes neuronales\")\n"
      ]
    }
  ],
  "metadata": {
    "colab": {
      "provenance": [],
      "include_colab_link": true
    },
    "kernelspec": {
      "display_name": "Python 3",
      "name": "python3"
    },
    "language_info": {
      "name": "python"
    }
  },
  "nbformat": 4,
  "nbformat_minor": 0
}