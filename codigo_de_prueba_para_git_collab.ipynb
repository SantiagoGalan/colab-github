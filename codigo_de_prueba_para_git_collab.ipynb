{
  "nbformat": 4,
  "nbformat_minor": 0,
  "metadata": {
    "colab": {
      "provenance": [],
      "include_colab_link": true
    },
    "kernelspec": {
      "name": "python3",
      "display_name": "Python 3"
    },
    "language_info": {
      "name": "python"
    }
  },
  "cells": [
    {
      "cell_type": "markdown",
      "metadata": {
        "id": "view-in-github",
        "colab_type": "text"
      },
      "source": [
        "<a href=\"https://colab.research.google.com/github/SantiagoGalan/colab-github/blob/main/codigo_de_prueba_para_git_collab.ipynb\" target=\"_parent\"><img src=\"https://colab.research.google.com/assets/colab-badge.svg\" alt=\"Open In Colab\"/></a>"
      ]
    },
    {
      "cell_type": "markdown",
      "source": [
        "Codigo de prueba para usar Github y Google collab"
      ],
      "metadata": {
        "id": "YP3tW3dg1re0"
      }
    },
    {
      "cell_type": "code",
      "execution_count": null,
      "metadata": {
        "id": "8ZBog_130U_s"
      },
      "outputs": [],
      "source": [
        "#Este mensaje fue agregado luego del primer commit. para verificar si al guardar una copia nuevamente, se sobreescribe el archivo o si hay que guardarlo de otra manera"
      ]
    },
    {
      "cell_type": "markdown",
      "source": [
        "colab abierto desde github. Probar guardar cambios desde aca"
      ],
      "metadata": {
        "id": "C09pR2Na5daR"
      }
    }
  ]
}