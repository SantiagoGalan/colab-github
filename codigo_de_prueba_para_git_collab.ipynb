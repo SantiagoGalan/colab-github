{
  "cells": [
    {
      "cell_type": "markdown",
      "metadata": {
        "id": "view-in-github",
        "colab_type": "text"
      },
      "source": [
        "<a href=\"https://colab.research.google.com/github/SantiagoGalan/colab-github/blob/actualizar-clases-alumno-y-cuaderno/codigo_de_prueba_para_git_collab.ipynb\" target=\"_parent\"><img src=\"https://colab.research.google.com/assets/colab-badge.svg\" alt=\"Open In Colab\"/></a>"
      ]
    },
    {
      "cell_type": "code",
      "source": [
        "class Hoja():\n",
        "  def __init__(self):\n",
        "    self.borrable = True\n",
        "    self.texto= \"\"\n",
        "  def agregar_texto(self,texto):\n",
        "    self.texto = texto\n",
        "  def borrar(self):\n",
        "    self.texto = \"\""
      ],
      "metadata": {
        "id": "2vhaXTvpKJyE"
      },
      "execution_count": 11,
      "outputs": []
    },
    {
      "cell_type": "code",
      "execution_count": 16,
      "metadata": {
        "id": "DlyC7GqLBsKq"
      },
      "outputs": [],
      "source": [
        "class Cuaderno():\n",
        "  def __init__(self):\n",
        "    self.hojas_en_blanco = [Hoja() for _ in range(100)]\n",
        "    self.primera_hoja_libre = 0\n",
        "    self.hojas_usadas = []\n",
        "  def escribir(self,texto):\n",
        "    self.hojas_en_blanco[self.primera_hoja_libre].agregar_texto(texto)\n",
        "    self.primera_hoja_libre += 1\n",
        "  def mostrar_hoja(self,indice):\n",
        "    print(self.hojas_en_blanco[indice].texto)\n"
      ]
    },
    {
      "cell_type": "code",
      "source": [
        "class Alumno():\n",
        "  def __init__(self,nombre,edad):\n",
        "    self.nombre = nombre\n",
        "    self.edad = edad\n",
        "  def usar_cuaderno(self, cuaderno,texto):\n",
        "    cuaderno.escribir(texto)"
      ],
      "metadata": {
        "id": "x_LoSGdXJE1Z"
      },
      "execution_count": 17,
      "outputs": []
    },
    {
      "cell_type": "code",
      "execution_count": 20,
      "metadata": {
        "id": "YT_bgaj5WiBr",
        "outputId": "bf04a993-256f-4c16-af73-07b0e02e0d8c",
        "colab": {
          "base_uri": "https://localhost:8080/"
        }
      },
      "outputs": [
        {
          "output_type": "stream",
          "name": "stdout",
          "text": [
            "hola\n",
            "soy santi\n"
          ]
        }
      ],
      "source": [
        "cuaderno = Cuaderno()\n",
        "alumno = Alumno(\"santi\",10)\n",
        "\n",
        "alumno.usar_cuaderno(cuaderno,\"hola\")\n",
        "alumno.usar_cuaderno(cuaderno,\"soy santi\")\n",
        "\n",
        "cuaderno.mostrar_hoja(0)\n",
        "cuaderno.mostrar_hoja(1)"
      ]
    }
  ],
  "metadata": {
    "colab": {
      "provenance": [],
      "include_colab_link": true
    },
    "kernelspec": {
      "display_name": "Python 3",
      "name": "python3"
    },
    "language_info": {
      "name": "python"
    }
  },
  "nbformat": 4,
  "nbformat_minor": 0
}